{
 "cells": [
  {
   "cell_type": "code",
   "execution_count": 13,
   "metadata": {},
   "outputs": [],
   "source": [
    "import pandas as pd"
   ]
  },
  {
   "cell_type": "code",
   "execution_count": 14,
   "metadata": {},
   "outputs": [],
   "source": [
    "# Read the Excel workbook\n",
    "df = pd.read_excel('data/2018-usda-food-environment-atlas-dataset.xls')\n",
    "\n",
    "# Load Access, Stores, Assistance, Insecurity, Local, Health, Restaurants, Socioeconomic data sheets as dataframes \n",
    "access = pd.read_excel('data/2018-usda-food-environment-atlas-dataset.xls', 'ACCESS')\n",
    "stores = pd.read_excel('data/2018-usda-food-environment-atlas-dataset.xls', 'STORES')\n",
    "assistance = pd.read_excel('data/2018-usda-food-environment-atlas-dataset.xls', 'ASSISTANCE')\n",
    "insecurity = pd.read_excel('data/2018-usda-food-environment-atlas-dataset.xls', 'INSECURITY')\n",
    "prices_taxes = pd.read_excel('data/2018-usda-food-environment-atlas-dataset.xls', 'PRICES_TAXES')\n",
    "local = pd.read_excel('data/2018-usda-food-environment-atlas-dataset.xls', 'LOCAL')\n",
    "health = pd.read_excel('data/2018-usda-food-environment-atlas-dataset.xls', 'HEALTH')\n",
    "restaurants = pd.read_excel('data/2018-usda-food-environment-atlas-dataset.xls', 'RESTAURANTS')\n",
    "socioeconomic = pd.read_excel('data/2018-usda-food-environment-atlas-dataset.xls', 'SOCIOECONOMIC')"
   ]
  },
  {
   "cell_type": "code",
   "execution_count": 15,
   "metadata": {},
   "outputs": [],
   "source": [
    "# We're going to join all these sheets, so we'll drop redundant state and county cols from all but one.\n",
    "# We'll also set the FIPS ID col to be index so we can use that for the join.\n",
    "dfs = [stores, assistance, insecurity, prices_taxes, local, health, restaurants, socioeconomic]\n",
    "for df in dfs:\n",
    "    df.drop(columns=['State', 'County'], axis=1, inplace=True)\n",
    "    df.set_index('FIPS', inplace=True)\n",
    "\n",
    "# Then, we'll also set the index on the Access df. This will be the dataframe we join the others onto.\n",
    "access.set_index('FIPS', inplace=True)\n",
    "\n",
    "# Combine all sheets into one dataframe by joining on FIPS col.\n",
    "# Now we have a master dataframe containing the cols from all sheets.\n",
    "master_df = access.join(dfs)\n",
    "\n",
    "# These are the features I was interested in. Feel free to change them aroud as you see fit.\n",
    "# The sheeet 'Variable List' contains descriptions of all available vars.\n",
    "cols_of_interest = ['State', 'County',\n",
    "                    'PCT_LACCESS_POP15','PCT_LACCESS_LOWI15','PCT_LACCESS_HHNV15','PCT_LACCESS_SNAP15',\n",
    "                    'PCT_LACCESS_CHILD15','PCT_LACCESS_SENIORS15','PCT_LACCESS_WHITE15','PCT_LACCESS_BLACK15',\n",
    "                    'PCT_LACCESS_HISP15','PCT_LACCESS_NHASIAN15','PCT_LACCESS_NHNA15','PCT_LACCESS_NHPI15',\n",
    "                    'PCT_LACCESS_MULTIR15','GROCPTH14','SUPERCPTH14','CONVSPTH14','SPECSPTH14','SNAPSPTH16',\n",
    "                    'FFRPTH14','FSRPTH14','PCT_SNAP16','PCT_NSLP15','PCT_SBP15','PCH_SFSP_09_15','PCT_SFSP15',\n",
    "                    'PCT_WIC15','SODATAX_STORES14','SODATAX_VENDM14','CHIPSTAX_STORES14','CHIPSTAX_VENDM14',\n",
    "                    'FOOD_TAX14','FMRKTPTH16','PCT_FMRKT_SNAP16','PCT_FMRKT_WIC16','PCT_FMRKT_WICCASH16',\n",
    "                    'PCT_FMRKT_SFMNP16','PCT_FMRKT_CREDIT16','PCT_FMRKT_FRVEG16','PCT_FMRKT_ANMLPROD16',\n",
    "                    'PCT_FMRKT_BAKED16','PCT_FMRKT_OTHERFOOD16','FOODHUB16','PCT_DIABETES_ADULTS13',\n",
    "                    'PCT_OBESE_ADULTS13','PCT_HSPA15','RECFACPTH14','PCT_NHWHITE10','PCT_NHBLACK10',\n",
    "                    'PCT_HISP10','PCT_NHASIAN10','PCT_NHNA10','PCT_NHPI10','PCT_65OLDER10','PCT_18YOUNGER10',\n",
    "                    'MEDHHINC15','POVRATE15','METRO13']\n",
    "\n",
    "# Create a dataframe with just the cols of interest.\n",
    "combined_df = master_df[cols_of_interest]\n",
    "\n",
    "# Export the combined df for visualization\n",
    "combined_df.to_csv('data/combined.csv', index=False)"
   ]
  },
  {
   "cell_type": "code",
   "execution_count": null,
   "metadata": {},
   "outputs": [],
   "source": []
  }
 ],
 "metadata": {
  "kernelspec": {
   "display_name": "Python 3",
   "language": "python",
   "name": "python3"
  },
  "language_info": {
   "codemirror_mode": {
    "name": "ipython",
    "version": 3
   },
   "file_extension": ".py",
   "mimetype": "text/x-python",
   "name": "python",
   "nbconvert_exporter": "python",
   "pygments_lexer": "ipython3",
   "version": "3.6.5"
  }
 },
 "nbformat": 4,
 "nbformat_minor": 2
}
